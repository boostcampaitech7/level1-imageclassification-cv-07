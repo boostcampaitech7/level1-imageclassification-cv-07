{
 "cells": [
  {
   "cell_type": "code",
   "execution_count": 25,
   "metadata": {},
   "outputs": [],
   "source": [
    "import glob\n",
    "import os\n",
    "import json\n",
    "import re\n",
    "import pandas as pd\n",
    "import matplotlib\n",
    "import matplotlib.pyplot as plt"
   ]
  },
  {
   "cell_type": "code",
   "execution_count": 26,
   "metadata": {},
   "outputs": [],
   "source": [
    "def load_json(path):\n",
    "    with open(path, 'r') as f:\n",
    "        parse = json.load(f)\n",
    "    return parse\n",
    "\n",
    "def load_log(path):\n",
    "    df = pd.read_csv(path)\n",
    "    return df\n",
    "\n",
    "def change_col_orders(tables, primary_orders):\n",
    "    secondary_orders = tables.columns.tolist()\n",
    "    new_orders = primary_orders\n",
    "\n",
    "    for new_order in new_orders:\n",
    "        secondary_orders.remove(new_order)\n",
    "\n",
    "    new_orders.extend(secondary_orders)\n",
    "    tables = tables[new_orders]\n",
    "    return tables\n",
    "\n",
    "def get_only_dirs(paths):\n",
    "    ret_paths = []\n",
    "\n",
    "    for path in paths:\n",
    "        if os.path.isdir(path):\n",
    "            ret_paths.append(path)\n",
    "\n",
    "    return ret_paths"
   ]
  },
  {
   "cell_type": "code",
   "execution_count": 27,
   "metadata": {},
   "outputs": [],
   "source": [
    "\n",
    "sort_orders =  ['valid_acc']\n",
    "\n",
    "py_path = os.getcwd()\n",
    "result_dir_path = os.path.join(py_path, 'result')\n",
    "result_paths = glob.glob(result_dir_path + '/*')\n",
    "result_paths = get_only_dirs(result_paths)\n",
    "tables = None\n",
    "\n",
    "for result_path in result_paths:\n",
    "    fold_name = os.path.split(result_path)[-1]\n",
    "    best_model_path = glob.glob(result_path + '/best_model*.pt')[0]\n",
    "    exp_path = os.path.join(result_path, f'{fold_name}.json')\n",
    "    log_path = os.path.join(result_path, f'{fold_name}_log.csv')\n",
    "    save_path = os.path.join(result_dir_path, 'summary.csv')\n",
    "    \n",
    "    exp = load_json(exp_path)\n",
    "    log = load_log(log_path)\n",
    "    best_model_loss = float(re.search(r'best_model_(\\d+\\.\\d+).pt', best_model_path).group(1))\n",
    "    best_model_info = log.loc[(log['val_loss'] - best_model_loss).abs().idxmin()] # loss를 이용하여 best_model의 상태 찾기\n",
    "    train_acc = best_model_info.train_accuracy\n",
    "    valid_acc = best_model_info.val_accuracy\n",
    "\n",
    "    exp['train_acc'] = train_acc\n",
    "    exp['valid_acc'] = valid_acc\n",
    "\n",
    "    if tables is None:\n",
    "        tables = pd.DataFrame(exp, index = [0])\n",
    "    else:\n",
    "        table = pd.DataFrame(exp, index = [0])\n",
    "        tables = pd.concat([tables, table], axis = 0, ignore_index = True)\n",
    "\n",
    "tables = tables.sort_values(by = sort_orders, ascending = False)\n",
    "tables.to_csv(save_path)"
   ]
  },
  {
   "cell_type": "code",
   "execution_count": 59,
   "metadata": {},
   "outputs": [
    {
     "data": {
      "text/plain": [
       "(0.0, 100.0)"
      ]
     },
     "execution_count": 59,
     "metadata": {},
     "output_type": "execute_result"
    }
   ],
   "source": [
    "%config InlineBackend.figure_format='retina'\n",
    "matplotlib.rcParams.update({'font.size': 14})\n",
    "\n",
    "fig, ax = plt.subplots(1, 1, figsize = (8, 6))\n",
    "sort_result_paths = [result_paths[i] for i in tables.index]\n",
    "\n",
    "for result_path in sort_result_paths[2:]:\n",
    "    fold_name = os.path.split(result_path)[-1]\n",
    "    log_path = os.path.join(result_path, f'{fold_name}_log.csv')\n",
    "    log = load_log(log_path)\n",
    "\n",
    "    plt.plot(log['epoch'], log['val_accuracy'] * 100, label = fold_name)\n",
    "\n",
    "plt.xlabel(\"Epoch\")\n",
    "plt.ylabel(\"Valid accuracy (%)\")\n",
    "plt.legend(fontsize = 10)\n",
    "plt.xlim([0, 16])\n",
    "plt.ylim([0, 100])"
   ]
  },
  {
   "cell_type": "code",
   "execution_count": null,
   "metadata": {},
   "outputs": [],
   "source": []
  }
 ],
 "metadata": {
  "kernelspec": {
   "display_name": "pytorch_project1",
   "language": "python",
   "name": "python3"
  },
  "language_info": {
   "codemirror_mode": {
    "name": "ipython",
    "version": 3
   },
   "file_extension": ".py",
   "mimetype": "text/x-python",
   "name": "python",
   "nbconvert_exporter": "python",
   "pygments_lexer": "ipython3",
   "version": "3.10.13"
  }
 },
 "nbformat": 4,
 "nbformat_minor": 2
}
