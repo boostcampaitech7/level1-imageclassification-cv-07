{
 "cells": [
  {
   "cell_type": "code",
   "execution_count": 96,
   "metadata": {},
   "outputs": [],
   "source": [
    "from dotenv import load_dotenv\n",
    "import os\n",
    "import pandas as pd\n",
    "import numpy as np\n",
    "\n",
    "from sklearn.model_selection import train_test_split\n",
    "from sklearn.model_selection import StratifiedKFold\n",
    "import matplotlib\n",
    "import matplotlib.pyplot as plt"
   ]
  },
  {
   "cell_type": "code",
   "execution_count": 97,
   "metadata": {},
   "outputs": [],
   "source": [
    "n_splits = 5\n",
    "\n",
    "load_dotenv() # load .env file\n",
    "train_data_dir = os.environ.get('train_data_dir')\n",
    "data_info_file = os.environ.get('data_info_file')\n",
    "\n",
    "train_info = pd.read_csv(data_info_file)\n",
    "skf = StratifiedKFold(n_splits = n_splits)\n",
    "\n",
    "py_dir_path = os.getcwd()\n",
    "save_dir_path = os.path.join(py_dir_path, 'datasets/index')\n",
    "os.makedirs(save_dir_path, exist_ok=True)\n",
    "\n",
    "\n",
    "for i, (train_index, valid_index) in enumerate(skf.split(train_info, train_info['target'])):\n",
    "    train_index_path = os.path.join(save_dir_path, f'train_index{i}.csv')\n",
    "    valid_index_path = os.path.join(save_dir_path, f'valid_index{i}.csv')\n",
    "\n",
    "    np.savetxt(train_index_path, train_index, delimiter = \",\", fmt = '%d')\n",
    "    np.savetxt(valid_index_path, valid_index, delimiter = \",\", fmt = '%d')"
   ]
  },
  {
   "cell_type": "code",
   "execution_count": 99,
   "metadata": {},
   "outputs": [
    {
     "name": "stdout",
     "output_type": "stream",
     "text": [
      "0 - Train 카테고리 개수: 500, 카테고리 별 샘플 수: [25 24 23]\n",
      "0 - Valid 카테고리 개수: 500, 카테고리 별 샘플 수: [7 6 5]\n",
      "0 - train과 valid 겹치는 개수: 0\n",
      "\n",
      "1 - Train 카테고리 개수: 500, 카테고리 별 샘플 수: [25 24 23]\n",
      "1 - Valid 카테고리 개수: 500, 카테고리 별 샘플 수: [7 6 5]\n",
      "1 - train과 valid 겹치는 개수: 0\n",
      "1현재 valid와 이전 valid의 겹치는 개수: 0\n",
      "\n",
      "2 - Train 카테고리 개수: 500, 카테고리 별 샘플 수: [25 24 23]\n",
      "2 - Valid 카테고리 개수: 500, 카테고리 별 샘플 수: [7 6 5]\n",
      "2 - train과 valid 겹치는 개수: 0\n",
      "2현재 valid와 이전 valid의 겹치는 개수: 0\n",
      "\n",
      "3 - Train 카테고리 개수: 500, 카테고리 별 샘플 수: [25 24 23]\n",
      "3 - Valid 카테고리 개수: 500, 카테고리 별 샘플 수: [7 6 5]\n",
      "3 - train과 valid 겹치는 개수: 0\n",
      "3현재 valid와 이전 valid의 겹치는 개수: 0\n",
      "\n",
      "4 - Train 카테고리 개수: 500, 카테고리 별 샘플 수: [25 24 23]\n",
      "4 - Valid 카테고리 개수: 500, 카테고리 별 샘플 수: [7 6 5]\n",
      "4 - train과 valid 겹치는 개수: 0\n",
      "4현재 valid와 이전 valid의 겹치는 개수: 0\n",
      "\n"
     ]
    }
   ],
   "source": [
    "# 테스트 \n",
    "# 1. train_index_{i}과 valid_index_{i}에 겹치는 index는 없을까?\n",
    "# 2. valid_index_{i}는 valid_index_{j} (j < i)와 겹치는 index가 없을까?\n",
    "# 3.  \n",
    "\n",
    "train_index_prev = []\n",
    "valid_index_prev = []\n",
    "\n",
    "def countCommonElments(arr1, arr2):\n",
    "    return sum([x in arr1 for x in arr2])\n",
    "\n",
    "def countTarget(df, index):\n",
    "    count_category = len(df['target'].loc[index].unique())\n",
    "    sample_per_category = df['target'].loc[index].value_counts().unique()\n",
    "\n",
    "    return count_category, sample_per_category\n",
    "\n",
    "\n",
    "\n",
    "for i in range(n_splits):\n",
    "    train_index_path = os.path.join(save_dir_path, f'train_index{i}.csv')\n",
    "    valid_index_path = os.path.join(save_dir_path, f'valid_index{i}.csv')\n",
    "\n",
    "    train_index = np.loadtxt(train_index_path, delimiter = \",\", dtype = np.int32)\n",
    "    valid_index = np.loadtxt(valid_index_path, delimiter = \",\", dtype = np.int32)\n",
    "    \n",
    "    train_count_category, train_sample_per_category = countTarget(train_info, train_index)\n",
    "    valid_count_category, valid_sample_per_category = countTarget(train_info, valid_index)\n",
    "    \n",
    "    print(f\"{i} - Train 카테고리 개수: {train_count_category}, 카테고리 별 샘플 수: {train_sample_per_category}\")\n",
    "    print(f\"{i} - Valid 카테고리 개수: {valid_count_category}, 카테고리 별 샘플 수: {valid_sample_per_category}\")\n",
    "\n",
    "    count_train_valid_common = countCommonElments(train_index, valid_index)\n",
    "    print(f\"{i} - train과 valid 겹치는 개수: {count_train_valid_common}\")\n",
    "    \n",
    "    if (i != 0):\n",
    "        count_common_valid_elements = sum([countCommonElments(valid_index, x) for x in valid_index_prev])\n",
    "        print(f\"{i}현재 valid와 이전 valid의 겹치는 개수: {count_common_valid_elements}\")\n",
    "    \n",
    "    print(\"\")\n",
    "    \n",
    "    train_index_prev.append(train_index)\n",
    "    valid_index_prev.append(valid_index)"
   ]
  },
  {
   "cell_type": "code",
   "execution_count": null,
   "metadata": {},
   "outputs": [],
   "source": []
  }
 ],
 "metadata": {
  "kernelspec": {
   "display_name": "base",
   "language": "python",
   "name": "python3"
  },
  "language_info": {
   "codemirror_mode": {
    "name": "ipython",
    "version": 3
   },
   "file_extension": ".py",
   "mimetype": "text/x-python",
   "name": "python",
   "nbconvert_exporter": "python",
   "pygments_lexer": "ipython3",
   "version": "3.10.13"
  }
 },
 "nbformat": 4,
 "nbformat_minor": 2
}
