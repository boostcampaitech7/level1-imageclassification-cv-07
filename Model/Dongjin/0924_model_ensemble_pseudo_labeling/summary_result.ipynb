{
 "cells": [
  {
   "cell_type": "code",
   "execution_count": 5,
   "metadata": {},
   "outputs": [],
   "source": [
    "import glob\n",
    "import os\n",
    "import json\n",
    "import re\n",
    "import pandas as pd"
   ]
  },
  {
   "cell_type": "code",
   "execution_count": 6,
   "metadata": {},
   "outputs": [],
   "source": [
    "def load_json(path):\n",
    "    with open(path, 'r') as f:\n",
    "        parse = json.load(f)\n",
    "    return parse\n",
    "\n",
    "def load_log(path):\n",
    "    df = pd.read_csv(path)\n",
    "    return df\n",
    "\n",
    "def change_col_orders(tables, primary_orders):\n",
    "    secondary_orders = tables.columns.tolist()\n",
    "    new_orders = primary_orders\n",
    "\n",
    "    for new_order in new_orders:\n",
    "        secondary_orders.remove(new_order)\n",
    "\n",
    "    new_orders.extend(secondary_orders)\n",
    "    tables = tables[new_orders]\n",
    "    return tables\n",
    "\n",
    "def get_only_dirs(paths):\n",
    "    ret_paths = []\n",
    "\n",
    "    for path in paths:\n",
    "        if os.path.isdir(path):\n",
    "            ret_paths.append(path)\n",
    "\n",
    "    return ret_paths"
   ]
  },
  {
   "cell_type": "code",
   "execution_count": 7,
   "metadata": {},
   "outputs": [],
   "source": [
    "primary_orders = ['result_fold', 'model_name', 'optimizer', 'epochs', \n",
    "          'batch_size', 'learning_rate', 'label_smoothing', 'valid_split_ratio',\n",
    "          'random_select_dataset', 'StepLR_step_size', 'stepLR_gamma', 'train_acc', 'valid_acc']\n",
    "\n",
    "sort_orders =  ['valid_split_ratio', 'valid_acc', 'random_select_dataset']\n",
    "\n",
    "py_path = os.getcwd()\n",
    "result_dir_path = os.path.join(py_path, 'result')\n",
    "result_paths = glob.glob(result_dir_path + '/*')\n",
    "result_paths = get_only_dirs(result_paths)\n",
    "tables = None\n",
    "\n",
    "for result_path in result_paths:\n",
    "    fold_name = os.path.split(result_path)[-1]\n",
    "    best_model_path = glob.glob(result_path + '/best_model*.pt')[0]\n",
    "    exp_path = os.path.join(result_path, f'{fold_name}.json')\n",
    "    log_path = os.path.join(result_path, f'{fold_name}_log.csv')\n",
    "    save_path = os.path.join(result_dir_path, 'summary.csv')\n",
    "    \n",
    "    exp = load_json(exp_path)\n",
    "    log = load_log(log_path)\n",
    "    best_model_loss = float(re.search(r'best_model_(\\d+\\.\\d+).pt', best_model_path).group(1))\n",
    "    best_model_info = log.loc[(log['val_loss'] - best_model_loss).abs().idxmin()] # loss를 이용하여 best_model의 상태 찾기\n",
    "    train_acc = best_model_info.train_accuracy\n",
    "    valid_acc = best_model_info.val_accuracy\n",
    "\n",
    "    exp['train_acc'] = train_acc\n",
    "    exp['valid_acc'] = valid_acc\n",
    "\n",
    "    if tables is None:\n",
    "        tables = pd.DataFrame(exp, index = [0])\n",
    "    else:\n",
    "        table = pd.DataFrame(exp, index = [0])\n",
    "        tables = pd.concat([tables, table], axis = 0, ignore_index = True)\n",
    "\n",
    "tables = tables.sort_values(by = sort_orders, ascending = False)\n",
    "tables = change_col_orders(tables, primary_orders)\n",
    "tables = tables.reset_index(drop = True)\n",
    "\n",
    "tables.to_csv(save_path)"
   ]
  },
  {
   "cell_type": "code",
   "execution_count": null,
   "metadata": {},
   "outputs": [],
   "source": []
  }
 ],
 "metadata": {
  "kernelspec": {
   "display_name": "pytorch_project1",
   "language": "python",
   "name": "python3"
  },
  "language_info": {
   "codemirror_mode": {
    "name": "ipython",
    "version": 3
   },
   "file_extension": ".py",
   "mimetype": "text/x-python",
   "name": "python",
   "nbconvert_exporter": "python",
   "pygments_lexer": "ipython3",
   "version": "3.10.14"
  }
 },
 "nbformat": 4,
 "nbformat_minor": 2
}
