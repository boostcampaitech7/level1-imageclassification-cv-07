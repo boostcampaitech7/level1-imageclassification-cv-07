{
 "cells": [
  {
   "cell_type": "code",
   "execution_count": 2,
   "metadata": {},
   "outputs": [
    {
     "name": "stderr",
     "output_type": "stream",
     "text": [
      "/opt/conda/lib/python3.10/site-packages/tqdm/auto.py:21: TqdmWarning: IProgress not found. Please update jupyter and ipywidgets. See https://ipywidgets.readthedocs.io/en/stable/user_install.html\n",
      "  from .autonotebook import tqdm as notebook_tqdm\n"
     ]
    }
   ],
   "source": [
    "import json\n",
    "import torch\n",
    "from datasets.custom_dataset import CustomDataset\n",
    "from datasets.transform import TransformSelector\n",
    "from models.model_selector import ModelSelector\n",
    "from utils.train_utils import Trainer\n",
    "from torch.utils.data import DataLoader\n",
    "import torch.optim as optim\n",
    "from torch.optim.lr_scheduler import StepLR\n",
    "import torch.nn as nn\n",
    "import pandas as pd\n",
    "from sklearn.model_selection import train_test_split\n",
    "import os\n",
    "from tqdm import tqdm\n",
    "import cv2\n",
    "\n",
    "import matplotlib\n",
    "import matplotlib.pyplot as plt\n",
    "import re\n",
    "\n",
    "matplotlib.use('Agg')"
   ]
  },
  {
   "cell_type": "code",
   "execution_count": 3,
   "metadata": {},
   "outputs": [],
   "source": [
    "def image_path_to_num(image_path):\n",
    "    image_name = os.path.split(image_path)[-1]\n",
    "    match = re.search(r'_(\\d+)', image_name)\n",
    "    image_number = int(match.group(1))\n",
    "    return image_number\n",
    "\n",
    "def create_fold(fold_path):\n",
    "    if not os.path.isdir(fold_path):\n",
    "        os.makedirs(fold_path)"
   ]
  },
  {
   "cell_type": "code",
   "execution_count": 10,
   "metadata": {},
   "outputs": [
    {
     "data": {
      "text/plain": [
       "'/data/ephemeral/home/Dongjin/git/level1-imageclassification-cv-07/Model/0922_valid_analysis'"
      ]
     },
     "execution_count": 10,
     "metadata": {},
     "output_type": "execute_result"
    }
   ],
   "source": []
  },
  {
   "cell_type": "code",
   "execution_count": 58,
   "metadata": {},
   "outputs": [],
   "source": [
    "current_work_dir = os.getcwd()\n",
    "save_path_dir = os.path.join(current_work_dir, \"result/class\")\n",
    "data_info_file = '/data/ephemeral/home/data/train.csv'\n",
    "train_data_dir = '/data/ephemeral/home/data/train'\n",
    "class_to_name_file = os.path.join(current_work_dir, \"result/class/map_clsloc.txt\")\n",
    "\n",
    "train_info = pd.read_csv(data_info_file)\n",
    "\n",
    "# class_name으로 category 불러오기\n",
    "class_to_name = pd.read_csv(class_to_name_file, header = None, sep = \" \")\n",
    "class_to_name.columns = [\"class_name\", \"index\", \"category\"]\n",
    "class_to_name = class_to_name.drop([\"index\"], axis = 1)\n",
    "\n",
    "# train_info에 category merge하기\n",
    "train_info = pd.merge(train_info, class_to_name, on = 'class_name', how = 'left')\n",
    "\n",
    "groups = train_info.groupby('target')\n",
    "create_fold(save_path_dir)"
   ]
  },
  {
   "cell_type": "code",
   "execution_count": 61,
   "metadata": {},
   "outputs": [],
   "source": [
    "for i, group in train_info.groupby('target'):\n",
    "    group[\"image_number\"] = group[\"image_path\"].apply(image_path_to_num)\n",
    "    group = group.sort_values(by = ['image_number'])\n",
    "    \n",
    "    target = group.target.values[0]\n",
    "    class_name = group.class_name.values[0]\n",
    "    category = group.category.values[0]\n",
    "\n",
    "    [fig, axes] = plt.subplots(6, 6, figsize = (12, 12))\n",
    "    axes = axes.flatten()\n",
    "    \n",
    "    for j, row in enumerate(group.itertuples()):\n",
    "        image_path = os.path.join(train_data_dir, row.image_path)\n",
    "\n",
    "        image = cv2.imread(image_path, cv2.IMREAD_COLOR)\n",
    "        image = cv2.cvtColor(image, cv2.COLOR_BGR2RGB)\n",
    "        axes[j].imshow(image)\n",
    "        axes[j].set_title(row.image_number, fontsize = 14)\n",
    "        \n",
    "    for ax in axes:\n",
    "        ax.axis('off')\n",
    "    \n",
    "    title = f'Target: {target}, Category: {category}, Class name: {class_name}'\n",
    "    fig.suptitle(title, fontsize = 20)\n",
    "\n",
    "    save_path = os.path.join(save_path_dir, f'{target}.png')\n",
    "    plt.savefig(save_path)    "
   ]
  },
  {
   "cell_type": "code",
   "execution_count": null,
   "metadata": {},
   "outputs": [],
   "source": []
  }
 ],
 "metadata": {
  "kernelspec": {
   "display_name": "base",
   "language": "python",
   "name": "python3"
  },
  "language_info": {
   "codemirror_mode": {
    "name": "ipython",
    "version": 3
   },
   "file_extension": ".py",
   "mimetype": "text/x-python",
   "name": "python",
   "nbconvert_exporter": "python",
   "pygments_lexer": "ipython3",
   "version": "3.10.13"
  }
 },
 "nbformat": 4,
 "nbformat_minor": 2
}
