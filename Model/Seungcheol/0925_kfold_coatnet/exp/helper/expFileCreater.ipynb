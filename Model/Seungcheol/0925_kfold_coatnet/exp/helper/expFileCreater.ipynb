{
 "cells": [
  {
   "cell_type": "code",
   "execution_count": 2,
   "metadata": {},
   "outputs": [],
   "source": [
    "import os\n",
    "import json\n",
    "\n",
    "filename_reference = 'exp.json'\n",
    "\n",
    "foldname = os.path.splitext(filename_reference)[0]\n",
    "py_dir_path = os.getcwd()\n",
    "save_dir_path = os.path.join(py_dir_path, foldname)\n",
    "exp_file_path = os.path.join(py_dir_path, filename_reference)\n",
    "\n",
    "os.makedirs(save_dir_path, exist_ok = True)\n",
    "\n",
    "with open(exp_file_path, 'r') as f:\n",
    "    exp = json.load(f)\n",
    "\n",
    "for i in range(5):\n",
    "    output_file_path = os.path.join(save_dir_path, f'{foldname}{i}.json')\n",
    "\n",
    "    train_index_path = f\"/data/ephemeral/home/Dongjin/git/level1-imageclassification-cv-07/Model/Dongjin/0924_model_ensemble/datasets/index/train_index{i}.csv\"\n",
    "    valid_index_path = f\"/data/ephemeral/home/Dongjin/git/level1-imageclassification-cv-07/Model/Dongjin/0924_model_ensemble/datasets/index/valid_index{i}.csv\"\n",
    "    output_fold_path_format = f\"result/{{model_name}}_kfold{i}\"\n",
    "    \n",
    "    exp['output_fold_path_format'] = output_fold_path_format\n",
    "    exp['train_index_path'] = train_index_path\n",
    "    exp['valid_index_path'] = valid_index_path\n",
    "\n",
    "    with open(output_file_path, 'w') as f:\n",
    "        json.dump(exp, f, indent=4)"
   ]
  }
 ],
 "metadata": {
  "kernelspec": {
   "display_name": "base",
   "language": "python",
   "name": "python3"
  },
  "language_info": {
   "codemirror_mode": {
    "name": "ipython",
    "version": 3
   },
   "file_extension": ".py",
   "mimetype": "text/x-python",
   "name": "python",
   "nbconvert_exporter": "python",
   "pygments_lexer": "ipython3",
   "version": "3.10.13"
  }
 },
 "nbformat": 4,
 "nbformat_minor": 2
}
